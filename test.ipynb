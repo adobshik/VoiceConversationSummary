{
 "cells": [
  {
   "cell_type": "code",
   "execution_count": null,
   "id": "b7275a06-6349-4128-8121-b1df0b9c8cfe",
   "metadata": {},
   "outputs": [],
   "source": [
    "import torch\n",
    "\n",
    "from src.inference import SOAPSummaryInference"
   ]
  },
  {
   "cell_type": "code",
   "execution_count": null,
   "id": "d5f27676-b149-4160-920d-031e8c980988",
   "metadata": {},
   "outputs": [],
   "source": [
    "device = \"cuda:0\" if torch.cuda.is_available() else \"cpu\"\n",
    "torch_dtype = torch.float16 if torch.cuda.is_available() else torch.float32"
   ]
  },
  {
   "cell_type": "code",
   "execution_count": null,
   "id": "9e2143e8-c498-4eac-867e-daeca63c06ac",
   "metadata": {},
   "outputs": [],
   "source": [
    "soap_summary = SOAPSummaryInference(device, torch_dtype)"
   ]
  },
  {
   "cell_type": "code",
   "execution_count": null,
   "id": "a8f0a102-7461-43fb-af41-81317ee7df8a",
   "metadata": {},
   "outputs": [],
   "source": [
    "summary_results = soap_summary.predict('data/samples/conversation_part_1.mp3')"
   ]
  },
  {
   "cell_type": "code",
   "execution_count": null,
   "id": "d226c488-8e36-4b38-a6bd-2f61879c3c27",
   "metadata": {},
   "outputs": [],
   "source": [
    "print(summary_results)"
   ]
  },
  {
   "cell_type": "code",
   "execution_count": null,
   "id": "0dd66d9b-467a-4947-ada8-d3bf3bc5496f",
   "metadata": {},
   "outputs": [],
   "source": []
  }
 ],
 "metadata": {
  "kernelspec": {
   "display_name": "denti_venv",
   "language": "python",
   "name": "denti_venv"
  },
  "language_info": {
   "codemirror_mode": {
    "name": "ipython",
    "version": 3
   },
   "file_extension": ".py",
   "mimetype": "text/x-python",
   "name": "python",
   "nbconvert_exporter": "python",
   "pygments_lexer": "ipython3",
   "version": "3.11.2"
  }
 },
 "nbformat": 4,
 "nbformat_minor": 5
}
